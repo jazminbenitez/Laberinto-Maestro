{
 "cells": [
  {
   "cell_type": "markdown",
   "id": "752be45e",
   "metadata": {},
   "source": [
    "# 🌀 Proyecto: Generador y Solucionador de Laberintos en C\n",
    "\n",
    "## 📖 Descripción\n",
    "Este proyecto genera un **laberinto aleatorio** en consola y lo resuelve automáticamente usando algoritmos de búsqueda.  \n",
    "El objetivo es demostrar el uso de **estructuras de datos**, **algoritmos de búsqueda** y **visualización con ASCII**.\n",
    "\n",
    "El programa crea un laberinto con:\n",
    "- **Muros**: `#`\n",
    "- **Caminos**: `.`\n",
    "- **Entrada**: `E` (esquina superior izquierda)\n",
    "- **Salida**: `S` (esquina inferior derecha)\n",
    "- **Ruta resuelta**: `*`\n",
    "\n",
    "---\n",
    "\n",
    "## ⚡ Funcionalidades\n",
    "- Generación de un laberinto aleatorio en cada ejecución.  \n",
    "- Entrada y salida aseguradas.  \n",
    "- Resolución automática con **BFS** (Breadth-First Search).  \n",
    "- Visualización clara en consola.  \n",
    "- Tamaño configurable cambiando una sola variable (`N`).  \n",
    "\n",
    "---\n",
    "\n",
    "## 🛠️ Requisitos\n",
    "- Compilador de **C** (GCC o similar).  \n",
    "- Consola o terminal para ejecutar el programa.  \n",
    "\n",
    "---\n",
    "\n",
    "## ▶️ Ejecución\n",
    "1. Compila el programa:\n",
    "   ```bash\n",
    "   gcc laberinto.c -o laberinto\n"
   ]
  }
 ],
 "metadata": {
  "language_info": {
   "name": "python"
  }
 },
 "nbformat": 4,
 "nbformat_minor": 5
}
